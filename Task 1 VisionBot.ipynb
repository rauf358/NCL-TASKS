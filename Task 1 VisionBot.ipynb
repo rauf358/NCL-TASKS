{
 "cells": [
  {
   "cell_type": "markdown",
   "id": "230c1a37-1175-42a2-8a04-017003b4ed9d",
   "metadata": {},
   "source": [
    "**First Task of NCL Lab - OpenCV**  \n",
    "**Completed by:** Abdul Rauf and Umer  \n",
    "\n",
    "### **Objective:**  \n",
    "Our goal was to develop a bot that detects a face and, after maintaining eye contact for more than 3 seconds, greets the user and asks, *\"How are you?\"*"
   ]
  },
  {
   "cell_type": "code",
   "execution_count": 1,
   "id": "83c70a93-91f2-4b83-932d-7561e2df33ae",
   "metadata": {},
   "outputs": [],
   "source": [
    "import  time\n",
    "import cv2"
   ]
  },
  {
   "cell_type": "code",
   "execution_count": 3,
   "id": "9f04e2c5-13d8-446a-8510-539e34ce48dc",
   "metadata": {},
   "outputs": [],
   "source": [
    "face_cascade  = cv2.CascadeClassifier(cv2.data.haarcascades+'haarcascade_frontalface_default.xml')\n",
    "\n",
    "cap = cv2.VideoCapture(0)\n",
    "\n",
    "start_time=None\n",
    "face_detected=False\n",
    "\n",
    "while True:\n",
    "\n",
    "    ret,frame = cap.read()\n",
    "    if not ret:\n",
    "        break\n",
    "   # face recognition block\n",
    "    gray = cv2.cvtColor(frame, cv2.COLOR_BGR2GRAY)  # Convert frame to grayscale\n",
    "    faces = face_cascade .detectMultiScale(gray, scaleFactor=1.1, minNeighbors=5, minSize=(30, 30))\n",
    "    for (x, y, w, h) in faces:\n",
    "        cv2.rectangle(frame, (x, y), (x+w, y+h), (0, 255, 0), 2)\n",
    "    #timer block\n",
    "    if len(faces) > 0:\n",
    "        if  not face_detected:#face_detected is initalsed to false so not flips the condition to true to run code block\n",
    "            start_time = time.time()\n",
    "            face_detected=True\n",
    "        time_passed=time.time()-start_time\n",
    "        if time_passed > 3.0:\n",
    "            cv2.putText(frame, f\"Robot:Hi, how can I help you ? \", (50, 100), cv2.FONT_HERSHEY_SIMPLEX, 1, (255, 0, 0), 2)\n",
    "    else:\n",
    "        start_time=None\n",
    "        face_detected=False\n",
    "\n",
    "    #representaion block\n",
    "    cv2.imshow(\"live face recognition\", frame)\n",
    "    for (x, y, w, h) in faces:\n",
    "        cv2.rectangle(frame, (x, y), (x+w, y+h), (0, 255, 0), 2)\n",
    "    \n",
    "    if cv2.waitKey(1) & 0xFF == ord('q'):\n",
    "        break\n",
    "\n",
    "cap.release()\n",
    "\n",
    "cv2.destroyAllWindows()\n",
    "\n"
   ]
  },
  {
   "cell_type": "code",
   "execution_count": null,
   "id": "ee6a262e-61c2-457c-8843-4dffff1a4209",
   "metadata": {},
   "outputs": [],
   "source": []
  }
 ],
 "metadata": {
  "kernelspec": {
   "display_name": "Python 3 (ipykernel)",
   "language": "python",
   "name": "python3"
  },
  "language_info": {
   "codemirror_mode": {
    "name": "ipython",
    "version": 3
   },
   "file_extension": ".py",
   "mimetype": "text/x-python",
   "name": "python",
   "nbconvert_exporter": "python",
   "pygments_lexer": "ipython3",
   "version": "3.12.7"
  }
 },
 "nbformat": 4,
 "nbformat_minor": 5
}
